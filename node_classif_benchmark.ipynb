{
  "nbformat": 4,
  "nbformat_minor": 0,
  "metadata": {
    "colab": {
      "provenance": []
    },
    "kernelspec": {
      "name": "python3",
      "display_name": "Python 3"
    },
    "language_info": {
      "name": "python"
    },
    "accelerator": "GPU",
    "gpuClass": "standard"
  },
  "cells": [
    {
      "cell_type": "markdown",
      "source": [
        "# Running graph transformers on popular node classification benchmarks\n",
        "\n",
        "*Author: Sebastian Partarrieu*\n",
        "\n",
        "*Final Project: Geometric Data Analysis, MVA 2022-2023*"
      ],
      "metadata": {
        "id": "774FXkJaRmj0"
      }
    },
    {
      "cell_type": "markdown",
      "source": [
        "## Installing packages"
      ],
      "metadata": {
        "id": "0zOUvIQ2R4IJ"
      }
    },
    {
      "cell_type": "code",
      "execution_count": null,
      "metadata": {
        "colab": {
          "base_uri": "https://localhost:8080/"
        },
        "id": "gvM4WMBuRi_G",
        "outputId": "3095fde5-9f4a-4a57-f25e-c6a36328374e"
      },
      "outputs": [
        {
          "output_type": "stream",
          "name": "stdout",
          "text": [
            "Drive already mounted at /content/drive/; to attempt to forcibly remount, call drive.mount(\"/content/drive/\", force_remount=True).\n"
          ]
        }
      ],
      "source": [
        "from google.colab import drive\n",
        "drive.mount('/content/drive/')"
      ]
    },
    {
      "cell_type": "code",
      "source": [
        "cd drive/MyDrive/MVA/geom_data/project/"
      ],
      "metadata": {
        "colab": {
          "base_uri": "https://localhost:8080/"
        },
        "id": "k89vpvVHTvGk",
        "outputId": "11c06713-4abf-4bc4-f191-d5416831c91f"
      },
      "execution_count": null,
      "outputs": [
        {
          "output_type": "stream",
          "name": "stdout",
          "text": [
            "/content/drive/MyDrive/MVA/geom_data/project\n"
          ]
        }
      ]
    },
    {
      "cell_type": "code",
      "source": [
        "cd graphtransformer/"
      ],
      "metadata": {
        "colab": {
          "base_uri": "https://localhost:8080/"
        },
        "id": "Xh1BDgFtAXxF",
        "outputId": "09941ddb-37e6-492b-db30-2e32beeb838e"
      },
      "execution_count": null,
      "outputs": [
        {
          "output_type": "stream",
          "name": "stdout",
          "text": [
            "/content/drive/MyDrive/MVA/geom_data/project/graphtransformer\n"
          ]
        }
      ]
    },
    {
      "cell_type": "code",
      "source": [
        "import torch\n",
        "\n",
        "def format_pytorch_version(version):\n",
        "  return version.split('+')[0]\n",
        "\n",
        "TORCH_version = torch.__version__\n",
        "TORCH = format_pytorch_version(TORCH_version)\n",
        "\n",
        "def format_cuda_version(version):\n",
        "  return 'cu' + version.replace('.', '')\n",
        "\n",
        "CUDA_version = torch.version.cuda\n",
        "CUDA = format_cuda_version(CUDA_version)\n",
        "\n",
        "!pip install torch-scatter     -f https://pytorch-geometric.com/whl/torch-{TORCH}+{CUDA}.html\n",
        "!pip install torch-sparse      -f https://pytorch-geometric.com/whl/torch-{TORCH}+{CUDA}.html\n",
        "!pip install torch-cluster     -f https://pytorch-geometric.com/whl/torch-{TORCH}+{CUDA}.html\n",
        "!pip install torch-spline-conv -f https://pytorch-geometric.com/whl/torch-{TORCH}+{CUDA}.html\n",
        "!pip install torch-geometric "
      ],
      "metadata": {
        "colab": {
          "base_uri": "https://localhost:8080/"
        },
        "id": "lVzw6wnvW6YJ",
        "outputId": "3a14d094-f8f6-4086-ebbb-b59eb0c621e5"
      },
      "execution_count": null,
      "outputs": [
        {
          "output_type": "stream",
          "name": "stdout",
          "text": [
            "Looking in indexes: https://pypi.org/simple, https://us-python.pkg.dev/colab-wheels/public/simple/\n",
            "Looking in links: https://pytorch-geometric.com/whl/torch-1.13.0+cu116.html\n",
            "Requirement already satisfied: torch-scatter in /usr/local/lib/python3.8/dist-packages (2.1.0+pt113cu116)\n",
            "Looking in indexes: https://pypi.org/simple, https://us-python.pkg.dev/colab-wheels/public/simple/\n",
            "Looking in links: https://pytorch-geometric.com/whl/torch-1.13.0+cu116.html\n",
            "Requirement already satisfied: torch-sparse in /usr/local/lib/python3.8/dist-packages (0.6.16+pt113cu116)\n",
            "Requirement already satisfied: scipy in /usr/local/lib/python3.8/dist-packages (from torch-sparse) (1.7.3)\n",
            "Requirement already satisfied: numpy<1.23.0,>=1.16.5 in /usr/local/lib/python3.8/dist-packages (from scipy->torch-sparse) (1.21.6)\n",
            "Looking in indexes: https://pypi.org/simple, https://us-python.pkg.dev/colab-wheels/public/simple/\n",
            "Looking in links: https://pytorch-geometric.com/whl/torch-1.13.0+cu116.html\n",
            "Requirement already satisfied: torch-cluster in /usr/local/lib/python3.8/dist-packages (1.6.0+pt113cu116)\n",
            "Requirement already satisfied: scipy in /usr/local/lib/python3.8/dist-packages (from torch-cluster) (1.7.3)\n",
            "Requirement already satisfied: numpy<1.23.0,>=1.16.5 in /usr/local/lib/python3.8/dist-packages (from scipy->torch-cluster) (1.21.6)\n",
            "Looking in indexes: https://pypi.org/simple, https://us-python.pkg.dev/colab-wheels/public/simple/\n",
            "Looking in links: https://pytorch-geometric.com/whl/torch-1.13.0+cu116.html\n",
            "Requirement already satisfied: torch-spline-conv in /usr/local/lib/python3.8/dist-packages (1.2.1+pt113cu116)\n",
            "Looking in indexes: https://pypi.org/simple, https://us-python.pkg.dev/colab-wheels/public/simple/\n",
            "Requirement already satisfied: torch-geometric in /usr/local/lib/python3.8/dist-packages (2.2.0)\n",
            "Requirement already satisfied: scipy in /usr/local/lib/python3.8/dist-packages (from torch-geometric) (1.7.3)\n",
            "Requirement already satisfied: numpy in /usr/local/lib/python3.8/dist-packages (from torch-geometric) (1.21.6)\n",
            "Requirement already satisfied: pyparsing in /usr/local/lib/python3.8/dist-packages (from torch-geometric) (3.0.9)\n",
            "Requirement already satisfied: jinja2 in /usr/local/lib/python3.8/dist-packages (from torch-geometric) (3.1.2)\n",
            "Requirement already satisfied: requests in /usr/local/lib/python3.8/dist-packages (from torch-geometric) (2.23.0)\n",
            "Requirement already satisfied: scikit-learn in /usr/local/lib/python3.8/dist-packages (from torch-geometric) (1.0.2)\n",
            "Requirement already satisfied: psutil>=5.8.0 in /usr/local/lib/python3.8/dist-packages (from torch-geometric) (5.9.4)\n",
            "Requirement already satisfied: tqdm in /usr/local/lib/python3.8/dist-packages (from torch-geometric) (4.64.1)\n",
            "Requirement already satisfied: MarkupSafe>=2.0 in /usr/local/lib/python3.8/dist-packages (from jinja2->torch-geometric) (2.0.1)\n",
            "Requirement already satisfied: urllib3!=1.25.0,!=1.25.1,<1.26,>=1.21.1 in /usr/local/lib/python3.8/dist-packages (from requests->torch-geometric) (1.24.3)\n",
            "Requirement already satisfied: chardet<4,>=3.0.2 in /usr/local/lib/python3.8/dist-packages (from requests->torch-geometric) (3.0.4)\n",
            "Requirement already satisfied: certifi>=2017.4.17 in /usr/local/lib/python3.8/dist-packages (from requests->torch-geometric) (2022.12.7)\n",
            "Requirement already satisfied: idna<3,>=2.5 in /usr/local/lib/python3.8/dist-packages (from requests->torch-geometric) (2.10)\n",
            "Requirement already satisfied: joblib>=0.11 in /usr/local/lib/python3.8/dist-packages (from scikit-learn->torch-geometric) (1.2.0)\n",
            "Requirement already satisfied: threadpoolctl>=2.0.0 in /usr/local/lib/python3.8/dist-packages (from scikit-learn->torch-geometric) (3.1.0)\n"
          ]
        }
      ]
    },
    {
      "cell_type": "code",
      "source": [
        "!pip install tensorboardX"
      ],
      "metadata": {
        "colab": {
          "base_uri": "https://localhost:8080/"
        },
        "id": "lVu1JwrVBo3N",
        "outputId": "67abdf18-d8e6-4abe-8d2a-1172e05ab9d0"
      },
      "execution_count": null,
      "outputs": [
        {
          "output_type": "stream",
          "name": "stdout",
          "text": [
            "Looking in indexes: https://pypi.org/simple, https://us-python.pkg.dev/colab-wheels/public/simple/\n",
            "Requirement already satisfied: tensorboardX in /usr/local/lib/python3.8/dist-packages (2.5.1)\n",
            "Requirement already satisfied: protobuf<=3.20.1,>=3.8.0 in /usr/local/lib/python3.8/dist-packages (from tensorboardX) (3.19.6)\n",
            "Requirement already satisfied: numpy in /usr/local/lib/python3.8/dist-packages (from tensorboardX) (1.21.6)\n"
          ]
        }
      ]
    },
    {
      "cell_type": "code",
      "source": [
        "!pip install dgl-cu116 dglgo -f https://data.dgl.ai/wheels/repo.html"
      ],
      "metadata": {
        "colab": {
          "base_uri": "https://localhost:8080/"
        },
        "id": "eFEHyrI6Bcfi",
        "outputId": "2b055bf0-706d-4ecb-edd6-db9f209f51ce"
      },
      "execution_count": null,
      "outputs": [
        {
          "output_type": "stream",
          "name": "stdout",
          "text": [
            "Looking in indexes: https://pypi.org/simple, https://us-python.pkg.dev/colab-wheels/public/simple/\n",
            "Looking in links: https://data.dgl.ai/wheels/repo.html\n",
            "Requirement already satisfied: dgl-cu116 in /usr/local/lib/python3.8/dist-packages (0.9.1.post1)\n",
            "Requirement already satisfied: dglgo in /usr/local/lib/python3.8/dist-packages (0.0.2)\n",
            "Requirement already satisfied: numpy>=1.14.0 in /usr/local/lib/python3.8/dist-packages (from dgl-cu116) (1.21.6)\n",
            "Requirement already satisfied: requests>=2.19.0 in /usr/local/lib/python3.8/dist-packages (from dgl-cu116) (2.23.0)\n",
            "Requirement already satisfied: tqdm in /usr/local/lib/python3.8/dist-packages (from dgl-cu116) (4.64.1)\n",
            "Requirement already satisfied: networkx>=2.1 in /usr/local/lib/python3.8/dist-packages (from dgl-cu116) (2.8.8)\n",
            "Requirement already satisfied: psutil>=5.8.0 in /usr/local/lib/python3.8/dist-packages (from dgl-cu116) (5.9.4)\n",
            "Requirement already satisfied: scipy>=1.1.0 in /usr/local/lib/python3.8/dist-packages (from dgl-cu116) (1.7.3)\n",
            "Requirement already satisfied: idna<3,>=2.5 in /usr/local/lib/python3.8/dist-packages (from requests>=2.19.0->dgl-cu116) (2.10)\n",
            "Requirement already satisfied: urllib3!=1.25.0,!=1.25.1,<1.26,>=1.21.1 in /usr/local/lib/python3.8/dist-packages (from requests>=2.19.0->dgl-cu116) (1.24.3)\n",
            "Requirement already satisfied: certifi>=2017.4.17 in /usr/local/lib/python3.8/dist-packages (from requests>=2.19.0->dgl-cu116) (2022.12.7)\n",
            "Requirement already satisfied: chardet<4,>=3.0.2 in /usr/local/lib/python3.8/dist-packages (from requests>=2.19.0->dgl-cu116) (3.0.4)\n",
            "Requirement already satisfied: ogb>=1.3.3 in /usr/local/lib/python3.8/dist-packages (from dglgo) (1.3.5)\n",
            "Requirement already satisfied: ruamel.yaml>=0.17.20 in /usr/local/lib/python3.8/dist-packages (from dglgo) (0.17.21)\n",
            "Requirement already satisfied: scikit-learn>=0.20.0 in /usr/local/lib/python3.8/dist-packages (from dglgo) (1.0.2)\n",
            "Requirement already satisfied: numpydoc>=1.1.0 in /usr/local/lib/python3.8/dist-packages (from dglgo) (1.5.0)\n",
            "Requirement already satisfied: isort>=5.10.1 in /usr/local/lib/python3.8/dist-packages (from dglgo) (5.11.4)\n",
            "Requirement already satisfied: typer>=0.4.0 in /usr/local/lib/python3.8/dist-packages (from dglgo) (0.7.0)\n",
            "Requirement already satisfied: autopep8>=1.6.0 in /usr/local/lib/python3.8/dist-packages (from dglgo) (2.0.1)\n",
            "Requirement already satisfied: rdkit-pypi in /usr/local/lib/python3.8/dist-packages (from dglgo) (2022.9.3)\n",
            "Requirement already satisfied: pydantic>=1.9.0 in /usr/local/lib/python3.8/dist-packages (from dglgo) (1.10.2)\n",
            "Requirement already satisfied: PyYAML>=5.1 in /usr/local/lib/python3.8/dist-packages (from dglgo) (6.0)\n",
            "Requirement already satisfied: pycodestyle>=2.10.0 in /usr/local/lib/python3.8/dist-packages (from autopep8>=1.6.0->dglgo) (2.10.0)\n",
            "Requirement already satisfied: tomli in /usr/local/lib/python3.8/dist-packages (from autopep8>=1.6.0->dglgo) (2.0.1)\n",
            "Requirement already satisfied: Jinja2>=2.10 in /usr/local/lib/python3.8/dist-packages (from numpydoc>=1.1.0->dglgo) (3.1.2)\n",
            "Requirement already satisfied: sphinx>=4.2 in /usr/local/lib/python3.8/dist-packages (from numpydoc>=1.1.0->dglgo) (5.3.0)\n",
            "Requirement already satisfied: MarkupSafe>=2.0 in /usr/local/lib/python3.8/dist-packages (from Jinja2>=2.10->numpydoc>=1.1.0->dglgo) (2.0.1)\n",
            "Requirement already satisfied: pandas>=0.24.0 in /usr/local/lib/python3.8/dist-packages (from ogb>=1.3.3->dglgo) (1.3.5)\n",
            "Requirement already satisfied: outdated>=0.2.0 in /usr/local/lib/python3.8/dist-packages (from ogb>=1.3.3->dglgo) (0.2.2)\n",
            "Requirement already satisfied: six>=1.12.0 in /usr/local/lib/python3.8/dist-packages (from ogb>=1.3.3->dglgo) (1.15.0)\n",
            "Requirement already satisfied: torch>=1.6.0 in /usr/local/lib/python3.8/dist-packages (from ogb>=1.3.3->dglgo) (1.13.0+cu116)\n",
            "Requirement already satisfied: setuptools>=44 in /usr/local/lib/python3.8/dist-packages (from outdated>=0.2.0->ogb>=1.3.3->dglgo) (57.4.0)\n",
            "Requirement already satisfied: littleutils in /usr/local/lib/python3.8/dist-packages (from outdated>=0.2.0->ogb>=1.3.3->dglgo) (0.2.2)\n",
            "Requirement already satisfied: pytz>=2017.3 in /usr/local/lib/python3.8/dist-packages (from pandas>=0.24.0->ogb>=1.3.3->dglgo) (2022.6)\n",
            "Requirement already satisfied: python-dateutil>=2.7.3 in /usr/local/lib/python3.8/dist-packages (from pandas>=0.24.0->ogb>=1.3.3->dglgo) (2.8.2)\n",
            "Requirement already satisfied: typing-extensions>=4.1.0 in /usr/local/lib/python3.8/dist-packages (from pydantic>=1.9.0->dglgo) (4.4.0)\n",
            "Requirement already satisfied: ruamel.yaml.clib>=0.2.6 in /usr/local/lib/python3.8/dist-packages (from ruamel.yaml>=0.17.20->dglgo) (0.2.7)\n",
            "Requirement already satisfied: joblib>=0.11 in /usr/local/lib/python3.8/dist-packages (from scikit-learn>=0.20.0->dglgo) (1.2.0)\n",
            "Requirement already satisfied: threadpoolctl>=2.0.0 in /usr/local/lib/python3.8/dist-packages (from scikit-learn>=0.20.0->dglgo) (3.1.0)\n",
            "Requirement already satisfied: snowballstemmer>=2.0 in /usr/local/lib/python3.8/dist-packages (from sphinx>=4.2->numpydoc>=1.1.0->dglgo) (2.2.0)\n",
            "Requirement already satisfied: sphinxcontrib-jsmath in /usr/local/lib/python3.8/dist-packages (from sphinx>=4.2->numpydoc>=1.1.0->dglgo) (1.0.1)\n",
            "Requirement already satisfied: sphinxcontrib-serializinghtml>=1.1.5 in /usr/local/lib/python3.8/dist-packages (from sphinx>=4.2->numpydoc>=1.1.0->dglgo) (1.1.5)\n",
            "Requirement already satisfied: docutils<0.20,>=0.14 in /usr/local/lib/python3.8/dist-packages (from sphinx>=4.2->numpydoc>=1.1.0->dglgo) (0.17.1)\n",
            "Requirement already satisfied: babel>=2.9 in /usr/local/lib/python3.8/dist-packages (from sphinx>=4.2->numpydoc>=1.1.0->dglgo) (2.11.0)\n",
            "Requirement already satisfied: Pygments>=2.12 in /usr/local/lib/python3.8/dist-packages (from sphinx>=4.2->numpydoc>=1.1.0->dglgo) (2.13.0)\n",
            "Requirement already satisfied: sphinxcontrib-devhelp in /usr/local/lib/python3.8/dist-packages (from sphinx>=4.2->numpydoc>=1.1.0->dglgo) (1.0.2)\n",
            "Requirement already satisfied: alabaster<0.8,>=0.7 in /usr/local/lib/python3.8/dist-packages (from sphinx>=4.2->numpydoc>=1.1.0->dglgo) (0.7.12)\n",
            "Requirement already satisfied: sphinxcontrib-htmlhelp>=2.0.0 in /usr/local/lib/python3.8/dist-packages (from sphinx>=4.2->numpydoc>=1.1.0->dglgo) (2.0.0)\n",
            "Requirement already satisfied: imagesize>=1.3 in /usr/local/lib/python3.8/dist-packages (from sphinx>=4.2->numpydoc>=1.1.0->dglgo) (1.4.1)\n",
            "Requirement already satisfied: importlib-metadata>=4.8 in /usr/local/lib/python3.8/dist-packages (from sphinx>=4.2->numpydoc>=1.1.0->dglgo) (5.1.0)\n",
            "Requirement already satisfied: sphinxcontrib-applehelp in /usr/local/lib/python3.8/dist-packages (from sphinx>=4.2->numpydoc>=1.1.0->dglgo) (1.0.2)\n",
            "Requirement already satisfied: packaging>=21.0 in /usr/local/lib/python3.8/dist-packages (from sphinx>=4.2->numpydoc>=1.1.0->dglgo) (21.3)\n",
            "Requirement already satisfied: sphinxcontrib-qthelp in /usr/local/lib/python3.8/dist-packages (from sphinx>=4.2->numpydoc>=1.1.0->dglgo) (1.0.3)\n",
            "Requirement already satisfied: zipp>=0.5 in /usr/local/lib/python3.8/dist-packages (from importlib-metadata>=4.8->sphinx>=4.2->numpydoc>=1.1.0->dglgo) (3.11.0)\n",
            "Requirement already satisfied: pyparsing!=3.0.5,>=2.0.2 in /usr/local/lib/python3.8/dist-packages (from packaging>=21.0->sphinx>=4.2->numpydoc>=1.1.0->dglgo) (3.0.9)\n",
            "Requirement already satisfied: click<9.0.0,>=7.1.1 in /usr/local/lib/python3.8/dist-packages (from typer>=0.4.0->dglgo) (7.1.2)\n",
            "Requirement already satisfied: Pillow in /usr/local/lib/python3.8/dist-packages (from rdkit-pypi->dglgo) (7.1.2)\n"
          ]
        }
      ]
    },
    {
      "cell_type": "code",
      "source": [
        "!python main_Pubmed_node_classification.py --config 'configs/Pubmed_GraphTransformer_LapPE_sparse_BN.json'"
      ],
      "metadata": {
        "id": "nyz9Kd8_AMKT",
        "colab": {
          "base_uri": "https://localhost:8080/"
        },
        "outputId": "d24220f2-a574-4b45-c113-112f58ab0144"
      },
      "execution_count": null,
      "outputs": [
        {
          "output_type": "stream",
          "name": "stdout",
          "text": [
            "cuda available with GPU: Tesla T4\n",
            "/usr/local/lib/python3.8/dist-packages/dgl/heterograph.py:72: DGLWarning: Recommend creating graphs by `dgl.graph(data)` instead of `dgl.DGLGraph(data)`.\n",
            "  dgl_warning('Recommend creating graphs by `dgl.graph(data)`'\n",
            "train, test, val sizes : 1 1 1\n",
            "[I] Finished loading.\n",
            "MODEL DETAILS:\n",
            "\n",
            "MODEL/Total parameters: GraphTransformer 563483\n",
            "[!] Adding Laplacian positional encoding.\n",
            "/usr/local/lib/python3.8/dist-packages/dgl/heterograph.py:3719: DGLWarning: DGLGraph.adjacency_matrix_scipy is deprecated. Please replace it with:\n",
            "\n",
            "\tDGLGraph.adjacency_matrix(transpose, scipy_fmt=\"csr\").\n",
            "\n",
            "  dgl_warning('DGLGraph.adjacency_matrix_scipy is deprecated. '\n",
            "/content/drive/MyDrive/MVA/geom_data/project/graphtransformer/data/Pubmed.py:77: UserWarning: Casting complex values to real discards the imaginary part (Triggered internally at ../aten/src/ATen/native/Copy.cpp:250.)\n",
            "  g.ndata['lap_pos_enc'] = torch.from_numpy(EigVec[:,1:pos_enc_dim+1]).float()\n",
            "Time LapPE: 1.4602117538452148\n",
            "Training Graphs:  1\n",
            "Validation Graphs:  1\n",
            "Test Graphs:  1\n",
            "Number of Classes:  3\n",
            "Epoch 21:   2% 21/1000 [00:10<06:40,  2.44it/s, lr=0.0005, test_acc=33.6, time=0.402, train_acc=54.7, train_loss=1.01, val_acc=33.3, val_loss=1.1]Epoch 00022: reducing learning rate of group 0 to 4.5000e-04.\n",
            "Epoch 42:   4% 42/1000 [00:18<06:28,  2.46it/s, lr=0.00045, test_acc=33.5, time=0.405, train_acc=45.3, train_loss=1.03, val_acc=33.3, val_loss=1.1]Epoch 00043: reducing learning rate of group 0 to 4.0500e-04.\n",
            "Epoch 114:  11% 114/1000 [00:48<06:01,  2.45it/s, lr=0.000405, test_acc=51.3, time=0.403, train_acc=60, train_loss=0.869, val_acc=33.9, val_loss=1.08]  Epoch 00115: reducing learning rate of group 0 to 3.6450e-04.\n",
            "Epoch 135:  14% 135/1000 [00:56<05:59,  2.41it/s, lr=0.000365, test_acc=38.6, time=0.407, train_acc=58.3, train_loss=0.872, val_acc=21.5, val_loss=2.63]Epoch 00136: reducing learning rate of group 0 to 3.2805e-04.\n",
            "Epoch 174:  17% 174/1000 [01:12<05:40,  2.42it/s, lr=0.000328, test_acc=51.6, time=0.409, train_acc=67.3, train_loss=0.771, val_acc=31.8, val_loss=1.21]Epoch 00175: reducing learning rate of group 0 to 2.9525e-04.\n",
            "Epoch 195:  20% 195/1000 [01:21<05:28,  2.45it/s, lr=0.000295, test_acc=33.5, time=0.414, train_acc=68, train_loss=0.754, val_acc=49.9, val_loss=1.04]Epoch 00196: reducing learning rate of group 0 to 2.6572e-04.\n",
            "Epoch 216:  22% 216/1000 [01:30<05:21,  2.44it/s, lr=0.000266, test_acc=38.8, time=0.404, train_acc=72.3, train_loss=0.711, val_acc=31.4, val_loss=1.77]Epoch 00217: reducing learning rate of group 0 to 2.3915e-04.\n",
            "Epoch 237:  24% 237/1000 [01:38<05:12,  2.44it/s, lr=0.000239, test_acc=35.6, time=0.413, train_acc=73, train_loss=0.672, val_acc=36.2, val_loss=1.62]Epoch 00238: reducing learning rate of group 0 to 2.1523e-04.\n",
            "Epoch 258:  26% 258/1000 [01:47<05:02,  2.46it/s, lr=0.000215, test_acc=52.6, time=0.405, train_acc=67.7, train_loss=0.713, val_acc=55.3, val_loss=1.08]Epoch 00259: reducing learning rate of group 0 to 1.9371e-04.\n",
            "Epoch 279:  28% 279/1000 [01:55<04:54,  2.45it/s, lr=0.000194, test_acc=31, time=0.406, train_acc=73, train_loss=0.663, val_acc=51.7, val_loss=1.08] Epoch 00280: reducing learning rate of group 0 to 1.7434e-04.\n",
            "Epoch 300:  30% 300/1000 [02:04<04:47,  2.43it/s, lr=0.000174, test_acc=44.2, time=0.401, train_acc=75.3, train_loss=0.574, val_acc=33, val_loss=2.16] Epoch 00301: reducing learning rate of group 0 to 1.5691e-04.\n",
            "Epoch 321:  32% 321/1000 [02:13<04:38,  2.44it/s, lr=0.000157, test_acc=45.3, time=0.412, train_acc=80.3, train_loss=0.491, val_acc=54.6, val_loss=1.11]Epoch 00322: reducing learning rate of group 0 to 1.4121e-04.\n",
            "Epoch 342:  34% 342/1000 [02:21<04:32,  2.41it/s, lr=0.000141, test_acc=38.8, time=0.408, train_acc=81.3, train_loss=0.478, val_acc=39.2, val_loss=2.15]Epoch 00343: reducing learning rate of group 0 to 1.2709e-04.\n",
            "Epoch 363:  36% 363/1000 [02:30<04:20,  2.44it/s, lr=0.000127, test_acc=53.3, time=0.41, train_acc=79.3, train_loss=0.492, val_acc=41.9, val_loss=1.26]Epoch 00364: reducing learning rate of group 0 to 1.1438e-04.\n",
            "Epoch 384:  38% 384/1000 [02:39<04:12,  2.44it/s, lr=0.000114, test_acc=40.2, time=0.403, train_acc=81.7, train_loss=0.452, val_acc=42.8, val_loss=1.42]Epoch 00385: reducing learning rate of group 0 to 1.0295e-04.\n",
            "Epoch 405:  40% 405/1000 [02:47<04:05,  2.43it/s, lr=0.000103, test_acc=58.4, time=0.408, train_acc=83, train_loss=0.425, val_acc=46.5, val_loss=1.33]Epoch 00406: reducing learning rate of group 0 to 9.2651e-05.\n",
            "Epoch 426:  43% 426/1000 [02:56<03:54,  2.45it/s, lr=9.27e-5, test_acc=47.3, time=0.407, train_acc=83.7, train_loss=0.382, val_acc=53.3, val_loss=1.36]Epoch 00427: reducing learning rate of group 0 to 8.3386e-05.\n",
            "Epoch 447:  45% 447/1000 [03:04<03:46,  2.44it/s, lr=8.34e-5, test_acc=47.3, time=0.403, train_acc=84.3, train_loss=0.361, val_acc=50.9, val_loss=1.38]Epoch 00448: reducing learning rate of group 0 to 7.5047e-05.\n",
            "Epoch 468:  47% 468/1000 [03:13<03:38,  2.44it/s, lr=7.5e-5, test_acc=52.5, time=0.412, train_acc=85.3, train_loss=0.341, val_acc=46.1, val_loss=1.44]Epoch 00469: reducing learning rate of group 0 to 6.7543e-05.\n",
            "Epoch 489:  49% 489/1000 [03:22<03:30,  2.43it/s, lr=6.75e-5, test_acc=47, time=0.405, train_acc=86, train_loss=0.352, val_acc=46.2, val_loss=1.57]Epoch 00490: reducing learning rate of group 0 to 6.0788e-05.\n",
            "Epoch 510:  51% 510/1000 [03:30<03:22,  2.42it/s, lr=6.08e-5, test_acc=44, time=0.406, train_acc=87.3, train_loss=0.32, val_acc=46.6, val_loss=1.65]Epoch 00511: reducing learning rate of group 0 to 5.4709e-05.\n",
            "Epoch 531:  53% 531/1000 [03:39<03:12,  2.43it/s, lr=5.47e-5, test_acc=59.2, time=0.401, train_acc=88.7, train_loss=0.296, val_acc=40.4, val_loss=1.87]Epoch 00532: reducing learning rate of group 0 to 4.9239e-05.\n",
            "Epoch 552:  55% 552/1000 [03:48<03:07,  2.39it/s, lr=4.92e-5, test_acc=56.9, time=0.419, train_acc=88.3, train_loss=0.31, val_acc=47.2, val_loss=1.46]Epoch 00553: reducing learning rate of group 0 to 4.4315e-05.\n",
            "Epoch 573:  57% 573/1000 [03:56<02:55,  2.44it/s, lr=4.43e-5, test_acc=53.2, time=0.41, train_acc=90.7, train_loss=0.277, val_acc=42.4, val_loss=1.86]Epoch 00574: reducing learning rate of group 0 to 3.9883e-05.\n",
            "Epoch 594:  59% 594/1000 [04:05<02:46,  2.44it/s, lr=3.99e-5, test_acc=56, time=0.404, train_acc=88, train_loss=0.276, val_acc=37.8, val_loss=2.23]    Epoch 00595: reducing learning rate of group 0 to 3.5895e-05.\n",
            "Epoch 615:  62% 615/1000 [04:13<02:37,  2.44it/s, lr=3.59e-5, test_acc=53.6, time=0.406, train_acc=90.3, train_loss=0.246, val_acc=44.5, val_loss=1.92]Epoch 00616: reducing learning rate of group 0 to 3.2305e-05.\n",
            "Epoch 636:  64% 636/1000 [04:23<02:30,  2.42it/s, lr=3.23e-5, test_acc=54.5, time=0.405, train_acc=88.7, train_loss=0.272, val_acc=36.8, val_loss=2.16]Epoch 00637: reducing learning rate of group 0 to 2.9075e-05.\n",
            "Epoch 657:  66% 657/1000 [04:31<02:20,  2.44it/s, lr=2.91e-5, test_acc=51, time=0.407, train_acc=90.3, train_loss=0.246, val_acc=43, val_loss=1.92]  Epoch 00658: reducing learning rate of group 0 to 2.6167e-05.\n",
            "Epoch 678:  68% 678/1000 [04:40<02:11,  2.44it/s, lr=2.62e-5, test_acc=54.3, time=0.405, train_acc=91.3, train_loss=0.226, val_acc=42.2, val_loss=1.95]Epoch 00679: reducing learning rate of group 0 to 2.3551e-05.\n",
            "Epoch 699:  70% 699/1000 [04:49<02:03,  2.44it/s, lr=2.36e-5, test_acc=51.4, time=0.405, train_acc=91, train_loss=0.233, val_acc=48.1, val_loss=1.74]  Epoch 00700: reducing learning rate of group 0 to 2.1196e-05.\n",
            "Epoch 720:  72% 720/1000 [04:57<01:54,  2.45it/s, lr=2.12e-5, test_acc=52.5, time=0.405, train_acc=92.3, train_loss=0.221, val_acc=46.1, val_loss=1.81]Epoch 00721: reducing learning rate of group 0 to 1.9076e-05.\n",
            "Epoch 741:  74% 741/1000 [05:06<01:45,  2.45it/s, lr=1.91e-5, test_acc=52.3, time=0.401, train_acc=91.3, train_loss=0.217, val_acc=48.4, val_loss=1.82]Epoch 00742: reducing learning rate of group 0 to 1.7168e-05.\n",
            "Epoch 762:  76% 762/1000 [05:15<01:38,  2.43it/s, lr=1.72e-5, test_acc=54.9, time=0.41, train_acc=92.7, train_loss=0.215, val_acc=40.6, val_loss=2.22]Epoch 00763: reducing learning rate of group 0 to 1.5452e-05.\n",
            "Epoch 783:  78% 783/1000 [05:23<01:28,  2.45it/s, lr=1.55e-5, test_acc=51.3, time=0.406, train_acc=92.3, train_loss=0.206, val_acc=49, val_loss=1.98]Epoch 00784: reducing learning rate of group 0 to 1.3906e-05.\n",
            "Epoch 804:  80% 804/1000 [05:32<01:21,  2.42it/s, lr=1.39e-5, test_acc=48, time=0.408, train_acc=92.7, train_loss=0.204, val_acc=52.8, val_loss=1.78]  Epoch 00805: reducing learning rate of group 0 to 1.2516e-05.\n",
            "Epoch 825:  82% 825/1000 [05:40<01:11,  2.44it/s, lr=1.25e-5, test_acc=52.6, time=0.408, train_acc=93.3, train_loss=0.19, val_acc=47.2, val_loss=2.1]  Epoch 00826: reducing learning rate of group 0 to 1.1264e-05.\n",
            "Epoch 846:  85% 846/1000 [05:49<01:03,  2.44it/s, lr=1.13e-5, test_acc=52.8, time=0.408, train_acc=92.7, train_loss=0.19, val_acc=43.6, val_loss=2.09]Epoch 00847: reducing learning rate of group 0 to 1.0138e-05.\n",
            "Epoch 867:  87% 867/1000 [05:58<00:54,  2.44it/s, lr=1.01e-5, test_acc=49.7, time=0.405, train_acc=92, train_loss=0.187, val_acc=48.4, val_loss=1.97]Epoch 00868: reducing learning rate of group 0 to 9.1240e-06.\n",
            "Epoch 888:  89% 888/1000 [06:06<00:45,  2.45it/s, lr=9.12e-6, test_acc=51.3, time=0.403, train_acc=93, train_loss=0.201, val_acc=45.6, val_loss=1.97]  Epoch 00889: reducing learning rate of group 0 to 8.2116e-06.\n",
            "Epoch 909:  91% 909/1000 [06:15<00:37,  2.43it/s, lr=8.21e-6, test_acc=51.7, time=0.417, train_acc=92.7, train_loss=0.178, val_acc=45.4, val_loss=2.08]Epoch 00910: reducing learning rate of group 0 to 7.3904e-06.\n",
            "Epoch 930:  93% 930/1000 [06:24<00:28,  2.44it/s, lr=7.39e-6, test_acc=53.2, time=0.407, train_acc=93.3, train_loss=0.178, val_acc=39.9, val_loss=2.36]Epoch 00931: reducing learning rate of group 0 to 6.6514e-06.\n",
            "Epoch 951:  95% 951/1000 [06:32<00:20,  2.36it/s, lr=6.65e-6, test_acc=52, time=0.411, train_acc=92.7, train_loss=0.189, val_acc=44.3, val_loss=2.19]  Epoch 00952: reducing learning rate of group 0 to 5.9863e-06.\n",
            "Epoch 972:  97% 972/1000 [06:41<00:11,  2.40it/s, lr=5.99e-6, test_acc=52.7, time=0.408, train_acc=93.7, train_loss=0.179, val_acc=44.7, val_loss=2.16]Epoch 00973: reducing learning rate of group 0 to 5.3876e-06.\n",
            "Epoch 993:  99% 993/1000 [06:49<00:02,  2.46it/s, lr=5.39e-6, test_acc=47, time=0.408, train_acc=93.3, train_loss=0.186, val_acc=53.7, val_loss=1.65]  Epoch 00994: reducing learning rate of group 0 to 4.8489e-06.\n",
            "Epoch 999: 100% 1000/1000 [06:52<00:00,  2.42it/s, lr=4.85e-6, test_acc=44.1, time=0.407, train_acc=92.7, train_loss=0.191, val_acc=56, val_loss=1.51]\n",
            "Test Accuracy: 44.1200\n",
            "Train Accuracy: 77.0000\n",
            "Convergence Time (Epochs): 999.0000\n",
            "TOTAL TIME TAKEN: 416.2841s\n",
            "AVG TIME PER EPOCH: 0.4101s\n"
          ]
        }
      ]
    },
    {
      "cell_type": "code",
      "source": [
        "!python main_Pubmed_node_classification.py --config 'configs/Cora_GraphTransformer_LapPE_sparse_BN.json'"
      ],
      "metadata": {
        "colab": {
          "base_uri": "https://localhost:8080/"
        },
        "id": "-C4bElvSWQqY",
        "outputId": "a5744345-a922-41f0-d5c5-b487c3f6811b"
      },
      "execution_count": null,
      "outputs": [
        {
          "output_type": "stream",
          "name": "stdout",
          "text": [
            "cuda available with GPU: Tesla T4\n",
            "/usr/local/lib/python3.8/dist-packages/dgl/heterograph.py:72: DGLWarning: Recommend creating graphs by `dgl.graph(data)` instead of `dgl.DGLGraph(data)`.\n",
            "  dgl_warning('Recommend creating graphs by `dgl.graph(data)`'\n",
            "train, test, val sizes : 1 1 1\n",
            "[I] Finished loading.\n",
            "MODEL DETAILS:\n",
            "\n",
            "MODEL/Total parameters: GraphTransformer 638207\n",
            "[!] Adding Laplacian positional encoding.\n",
            "/usr/local/lib/python3.8/dist-packages/dgl/heterograph.py:3719: DGLWarning: DGLGraph.adjacency_matrix_scipy is deprecated. Please replace it with:\n",
            "\n",
            "\tDGLGraph.adjacency_matrix(transpose, scipy_fmt=\"csr\").\n",
            "\n",
            "  dgl_warning('DGLGraph.adjacency_matrix_scipy is deprecated. '\n",
            "/content/drive/MyDrive/MVA/geom_data/project/graphtransformer/data/Pubmed.py:77: UserWarning: Casting complex values to real discards the imaginary part (Triggered internally at ../aten/src/ATen/native/Copy.cpp:250.)\n",
            "  g.ndata['lap_pos_enc'] = torch.from_numpy(EigVec[:,1:pos_enc_dim+1]).float()\n",
            "Time LapPE: 0.23320913314819336\n",
            "Training Graphs:  1\n",
            "Validation Graphs:  1\n",
            "Test Graphs:  1\n",
            "Number of Classes:  7\n",
            "Epoch 80:   8% 80/1000 [00:23<04:16,  3.58it/s, lr=0.0005, test_acc=47.4, time=0.282, train_acc=99.9, train_loss=0.0233, val_acc=47.9, val_loss=1.42]Epoch 00081: reducing learning rate of group 0 to 4.5000e-04.\n",
            "Epoch 101:  10% 101/1000 [00:30<04:24,  3.40it/s, lr=0.00045, test_acc=45.3, time=0.273, train_acc=100, train_loss=0.0123, val_acc=45.4, val_loss=1.43]Epoch 00102: reducing learning rate of group 0 to 4.0500e-04.\n",
            "Epoch 122:  12% 122/1000 [00:35<04:04,  3.59it/s, lr=0.000405, test_acc=45.3, time=0.271, train_acc=100, train_loss=0.00878, val_acc=44.3, val_loss=1.43]Epoch 00123: reducing learning rate of group 0 to 3.6450e-04.\n",
            "Epoch 143:  14% 143/1000 [00:41<04:01,  3.54it/s, lr=0.000365, test_acc=44.6, time=0.285, train_acc=100, train_loss=0.00687, val_acc=44.1, val_loss=1.44]Epoch 00144: reducing learning rate of group 0 to 3.2805e-04.\n",
            "Epoch 164:  16% 164/1000 [00:47<03:55,  3.54it/s, lr=0.000328, test_acc=44.3, time=0.281, train_acc=100, train_loss=0.00567, val_acc=44.1, val_loss=1.44]Epoch 00165: reducing learning rate of group 0 to 2.9525e-04.\n",
            "Epoch 185:  18% 185/1000 [00:54<04:05,  3.32it/s, lr=0.000295, test_acc=44.3, time=0.28, train_acc=100, train_loss=0.00484, val_acc=44.1, val_loss=1.44] Epoch 00186: reducing learning rate of group 0 to 2.6572e-04.\n",
            "Epoch 206:  21% 206/1000 [01:00<03:47,  3.50it/s, lr=0.000266, test_acc=43.8, time=0.272, train_acc=100, train_loss=0.00424, val_acc=42.7, val_loss=1.44]Epoch 00207: reducing learning rate of group 0 to 2.3915e-04.\n",
            "Epoch 227:  23% 227/1000 [01:06<03:35,  3.58it/s, lr=0.000239, test_acc=43.8, time=0.275, train_acc=100, train_loss=0.00378, val_acc=42.7, val_loss=1.44]Epoch 00228: reducing learning rate of group 0 to 2.1523e-04.\n",
            "Epoch 248:  25% 248/1000 [01:12<03:32,  3.53it/s, lr=0.000215, test_acc=43.6, time=0.283, train_acc=100, train_loss=0.00343, val_acc=42.7, val_loss=1.44]Epoch 00249: reducing learning rate of group 0 to 1.9371e-04.\n",
            "Epoch 269:  27% 269/1000 [01:17<03:24,  3.58it/s, lr=0.000194, test_acc=43.8, time=0.273, train_acc=100, train_loss=0.00315, val_acc=42.7, val_loss=1.44]Epoch 00270: reducing learning rate of group 0 to 1.7434e-04.\n",
            "Epoch 290:  29% 290/1000 [01:23<03:20,  3.54it/s, lr=0.000174, test_acc=43.9, time=0.284, train_acc=100, train_loss=0.00292, val_acc=42.7, val_loss=1.44]Epoch 00291: reducing learning rate of group 0 to 1.5691e-04.\n",
            "Epoch 311:  31% 311/1000 [01:29<03:19,  3.45it/s, lr=0.000157, test_acc=44.2, time=0.282, train_acc=100, train_loss=0.00273, val_acc=42.7, val_loss=1.44]Epoch 00312: reducing learning rate of group 0 to 1.4121e-04.\n",
            "Epoch 332:  33% 332/1000 [01:35<03:13,  3.45it/s, lr=0.000141, test_acc=44.1, time=0.285, train_acc=100, train_loss=0.00257, val_acc=42.7, val_loss=1.44]Epoch 00333: reducing learning rate of group 0 to 1.2709e-04.\n",
            "Epoch 353:  35% 353/1000 [01:41<03:06,  3.47it/s, lr=0.000127, test_acc=44.2, time=0.283, train_acc=100, train_loss=0.00244, val_acc=42.7, val_loss=1.44]Epoch 00354: reducing learning rate of group 0 to 1.1438e-04.\n",
            "Epoch 374:  37% 374/1000 [01:47<02:53,  3.60it/s, lr=0.000114, test_acc=44, time=0.284, train_acc=100, train_loss=0.00233, val_acc=42.8, val_loss=1.44]Epoch 00375: reducing learning rate of group 0 to 1.0295e-04.\n",
            "Epoch 395:  40% 395/1000 [01:53<02:49,  3.58it/s, lr=0.000103, test_acc=44, time=0.273, train_acc=100, train_loss=0.00223, val_acc=42.7, val_loss=1.44]  Epoch 00396: reducing learning rate of group 0 to 9.2651e-05.\n",
            "Epoch 416:  42% 416/1000 [01:59<02:48,  3.47it/s, lr=9.27e-5, test_acc=44, time=0.281, train_acc=100, train_loss=0.00214, val_acc=42.7, val_loss=1.44]Epoch 00417: reducing learning rate of group 0 to 8.3386e-05.\n",
            "Epoch 437:  44% 437/1000 [02:05<02:38,  3.55it/s, lr=8.34e-5, test_acc=43.8, time=0.278, train_acc=100, train_loss=0.00207, val_acc=42.7, val_loss=1.44]Epoch 00438: reducing learning rate of group 0 to 7.5047e-05.\n",
            "Epoch 458:  46% 458/1000 [02:11<02:33,  3.52it/s, lr=7.5e-5, test_acc=44, time=0.275, train_acc=100, train_loss=0.00201, val_acc=42.8, val_loss=1.44]Epoch 00459: reducing learning rate of group 0 to 6.7543e-05.\n",
            "Epoch 479:  48% 479/1000 [02:18<03:20,  2.60it/s, lr=6.75e-5, test_acc=44, time=0.369, train_acc=100, train_loss=0.00195, val_acc=42.8, val_loss=1.44]Epoch 00480: reducing learning rate of group 0 to 6.0788e-05.\n",
            "Epoch 500:  50% 500/1000 [02:24<02:21,  3.53it/s, lr=6.08e-5, test_acc=44, time=0.284, train_acc=100, train_loss=0.0019, val_acc=43, val_loss=1.44]Epoch 00501: reducing learning rate of group 0 to 5.4709e-05.\n",
            "Epoch 521:  52% 521/1000 [02:30<02:18,  3.47it/s, lr=5.47e-5, test_acc=44, time=0.286, train_acc=100, train_loss=0.00186, val_acc=43, val_loss=1.44]Epoch 00522: reducing learning rate of group 0 to 4.9239e-05.\n",
            "Epoch 542:  54% 542/1000 [02:36<02:07,  3.58it/s, lr=4.92e-5, test_acc=44, time=0.281, train_acc=100, train_loss=0.00182, val_acc=42.8, val_loss=1.44]Epoch 00543: reducing learning rate of group 0 to 4.4315e-05.\n",
            "Epoch 563:  56% 563/1000 [02:42<02:02,  3.58it/s, lr=4.43e-5, test_acc=44, time=0.273, train_acc=100, train_loss=0.00179, val_acc=42.8, val_loss=1.44]Epoch 00564: reducing learning rate of group 0 to 3.9883e-05.\n",
            "Epoch 584:  58% 584/1000 [02:48<01:57,  3.55it/s, lr=3.99e-5, test_acc=44, time=0.281, train_acc=100, train_loss=0.00175, val_acc=42.8, val_loss=1.44]Epoch 00585: reducing learning rate of group 0 to 3.5895e-05.\n",
            "Epoch 605:  60% 605/1000 [02:54<01:52,  3.51it/s, lr=3.59e-5, test_acc=44, time=0.282, train_acc=100, train_loss=0.00173, val_acc=43, val_loss=1.44]Epoch 00606: reducing learning rate of group 0 to 3.2305e-05.\n",
            "Epoch 626:  63% 626/1000 [03:00<01:48,  3.45it/s, lr=3.23e-5, test_acc=44, time=0.289, train_acc=100, train_loss=0.0017, val_acc=43, val_loss=1.44] Epoch 00627: reducing learning rate of group 0 to 2.9075e-05.\n",
            "Epoch 647:  65% 647/1000 [03:06<01:39,  3.56it/s, lr=2.91e-5, test_acc=44, time=0.276, train_acc=100, train_loss=0.00168, val_acc=43, val_loss=1.44]Epoch 00648: reducing learning rate of group 0 to 2.6167e-05.\n",
            "Epoch 668:  67% 668/1000 [03:12<01:33,  3.57it/s, lr=2.62e-5, test_acc=44, time=0.274, train_acc=100, train_loss=0.00166, val_acc=43, val_loss=1.44]Epoch 00669: reducing learning rate of group 0 to 2.3551e-05.\n",
            "Epoch 689:  69% 689/1000 [03:18<01:27,  3.56it/s, lr=2.36e-5, test_acc=44, time=0.279, train_acc=100, train_loss=0.00164, val_acc=43, val_loss=1.44]Epoch 00690: reducing learning rate of group 0 to 2.1196e-05.\n",
            "Epoch 710:  71% 710/1000 [03:24<01:23,  3.47it/s, lr=2.12e-5, test_acc=44, time=0.276, train_acc=100, train_loss=0.00163, val_acc=42.8, val_loss=1.44]Epoch 00711: reducing learning rate of group 0 to 1.9076e-05.\n",
            "Epoch 731:  73% 731/1000 [03:30<01:17,  3.45it/s, lr=1.91e-5, test_acc=44, time=0.296, train_acc=100, train_loss=0.00161, val_acc=43, val_loss=1.44]Epoch 00732: reducing learning rate of group 0 to 1.7168e-05.\n",
            "Epoch 752:  75% 752/1000 [03:36<01:11,  3.47it/s, lr=1.72e-5, test_acc=44, time=0.281, train_acc=100, train_loss=0.0016, val_acc=43, val_loss=1.44]Epoch 00753: reducing learning rate of group 0 to 1.5452e-05.\n",
            "Epoch 773:  77% 773/1000 [03:42<01:04,  3.50it/s, lr=1.55e-5, test_acc=44, time=0.284, train_acc=100, train_loss=0.00159, val_acc=43, val_loss=1.44]Epoch 00774: reducing learning rate of group 0 to 1.3906e-05.\n",
            "Epoch 794:  79% 794/1000 [03:47<00:57,  3.57it/s, lr=1.39e-5, test_acc=44, time=0.279, train_acc=100, train_loss=0.00158, val_acc=43, val_loss=1.44]Epoch 00795: reducing learning rate of group 0 to 1.2516e-05.\n",
            "Epoch 815:  82% 815/1000 [03:53<00:51,  3.57it/s, lr=1.25e-5, test_acc=44, time=0.278, train_acc=100, train_loss=0.00157, val_acc=43, val_loss=1.44]Epoch 00816: reducing learning rate of group 0 to 1.1264e-05.\n",
            "Epoch 836:  84% 836/1000 [03:59<00:45,  3.58it/s, lr=1.13e-5, test_acc=44, time=0.282, train_acc=100, train_loss=0.00156, val_acc=43, val_loss=1.44]Epoch 00837: reducing learning rate of group 0 to 1.0138e-05.\n",
            "Epoch 857:  86% 857/1000 [04:05<00:40,  3.52it/s, lr=1.01e-5, test_acc=44, time=0.273, train_acc=100, train_loss=0.00155, val_acc=43, val_loss=1.44]Epoch 00858: reducing learning rate of group 0 to 9.1240e-06.\n",
            "Epoch 878:  88% 878/1000 [04:11<00:33,  3.61it/s, lr=9.12e-6, test_acc=44, time=0.281, train_acc=100, train_loss=0.00154, val_acc=43, val_loss=1.44]Epoch 00879: reducing learning rate of group 0 to 8.2116e-06.\n",
            "Epoch 899:  90% 899/1000 [04:17<00:28,  3.57it/s, lr=8.21e-6, test_acc=44, time=0.281, train_acc=100, train_loss=0.00154, val_acc=43, val_loss=1.44]Epoch 00900: reducing learning rate of group 0 to 7.3904e-06.\n",
            "Epoch 920:  92% 920/1000 [04:23<00:22,  3.54it/s, lr=7.39e-6, test_acc=44, time=0.275, train_acc=100, train_loss=0.00153, val_acc=43, val_loss=1.44]Epoch 00921: reducing learning rate of group 0 to 6.6514e-06.\n",
            "Epoch 941:  94% 941/1000 [04:29<00:16,  3.61it/s, lr=6.65e-6, test_acc=44, time=0.279, train_acc=100, train_loss=0.00153, val_acc=43, val_loss=1.44]Epoch 00942: reducing learning rate of group 0 to 5.9863e-06.\n",
            "Epoch 962:  96% 962/1000 [04:35<00:10,  3.52it/s, lr=5.99e-6, test_acc=44, time=0.267, train_acc=100, train_loss=0.00152, val_acc=43, val_loss=1.44]Epoch 00963: reducing learning rate of group 0 to 5.3876e-06.\n",
            "Epoch 983:  98% 983/1000 [04:41<00:04,  3.57it/s, lr=5.39e-6, test_acc=44, time=0.3, train_acc=100, train_loss=0.00152, val_acc=43, val_loss=1.44]  Epoch 00984: reducing learning rate of group 0 to 4.8489e-06.\n",
            "Epoch 999: 100% 1000/1000 [04:45<00:00,  3.50it/s, lr=4.85e-6, test_acc=44, time=0.276, train_acc=100, train_loss=0.00151, val_acc=43, val_loss=1.44]\n",
            "Test Accuracy: 43.9802\n",
            "Train Accuracy: 100.0000\n",
            "Convergence Time (Epochs): 999.0000\n",
            "TOTAL TIME TAKEN: 288.0799s\n",
            "AVG TIME PER EPOCH: 0.2835s\n"
          ]
        }
      ]
    },
    {
      "cell_type": "code",
      "source": [],
      "metadata": {
        "id": "s2CIjFY1fTvy"
      },
      "execution_count": null,
      "outputs": []
    }
  ]
}